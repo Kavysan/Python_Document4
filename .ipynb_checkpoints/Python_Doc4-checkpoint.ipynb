{
 "cells": [
  {
   "cell_type": "markdown",
   "metadata": {},
   "source": [
    "# Object-Oriented-Programming (OOP)"
   ]
  },
  {
   "cell_type": "markdown",
   "metadata": {},
   "source": [
    "## Tasks Today:\n",
    "\n",
    "   \n",
    "\n",
    "1) <b>Creating a Class (Initializing/Declaring)</b> <br>\n",
    "2) <b>Using a Class (Instantiating)</b> <br>\n",
    " &nbsp;&nbsp;&nbsp;&nbsp; a) Creating One Instance <br>\n",
    " &nbsp;&nbsp;&nbsp;&nbsp; b) Creating Multiple Instances <br>\n",
    " &nbsp;&nbsp;&nbsp;&nbsp; c) In-Class Exercise #1 - Create a Class 'Car' and instantiate three different makes of cars <br>\n",
    "3) <b>The \\__init\\__() Method</b> <br>\n",
    " &nbsp;&nbsp;&nbsp;&nbsp; a) The 'self' Attribute <br>\n",
    "4) <b>Class Attributes</b> <br>\n",
    " &nbsp;&nbsp;&nbsp;&nbsp; a) Initializing Attributes <br>\n",
    " &nbsp;&nbsp;&nbsp;&nbsp; b) Setting an Attribute Outside of the \\__init\\__() Method <br>\n",
    " &nbsp;&nbsp;&nbsp;&nbsp; c) Setting Defaults for Attributes <br>\n",
    " &nbsp;&nbsp;&nbsp;&nbsp; d) Accessing Class Attributes <br>\n",
    " &nbsp;&nbsp;&nbsp;&nbsp; e) Changing Class Attributes <br>\n",
    " &nbsp;&nbsp;&nbsp;&nbsp; f) In-Class Exercise #2 - Add a color and wheels attribute to your 'Car' class <br>\n",
    "5) <b>Class Methods</b> <br>\n",
    " &nbsp;&nbsp;&nbsp;&nbsp; a) Creating <br>\n",
    " &nbsp;&nbsp;&nbsp;&nbsp; b) Calling <br>\n",
    " &nbsp;&nbsp;&nbsp;&nbsp; c) Modifying an Attribute's Value Through a Method <br>\n",
    " &nbsp;&nbsp;&nbsp;&nbsp; d) Incrementing an Attribute's Value Through a Method <br>\n",
    " &nbsp;&nbsp;&nbsp;&nbsp; e) In-Class Exercise #3 - Add a method that prints the cars color and wheel number, then call them <br>\n",
    "6) <b>Inheritance</b> <br>\n",
    " &nbsp;&nbsp;&nbsp;&nbsp; a) Syntax for Inheriting from a Parent Class <br>\n",
    " &nbsp;&nbsp;&nbsp;&nbsp; b) The \\__init\\__() Method for a Child Class (super()) <br>\n",
    " &nbsp;&nbsp;&nbsp;&nbsp; c) Defining Attributes and Methods for the Child Class <br>\n",
    " &nbsp;&nbsp;&nbsp;&nbsp; d) Method Overriding <br>\n",
    " &nbsp;&nbsp;&nbsp;&nbsp; e) In-Class Exercise #4 - Create a class 'Ford' that inherits from 'Car' class and initialize it as a Blue Ford Explorer with 4 wheels using the super() method <br>\n",
    "7) <b>Classes as Attributes</b> <br>\n",
    "8) <b>Exercises</b> <br>\n",
    " &nbsp;&nbsp;&nbsp;&nbsp; a) Exercise #1 - Turn the shopping cart program from yesterday into an object-oriented program <br>"
   ]
  },
  {
   "cell_type": "markdown",
   "metadata": {},
   "source": [
    "## Creating a Class (Initializing/Declaring)\n",
    "<p>When creating a class, function, or even a variable you are initializing that object. Initializing and Declaring occur at the same time in Python, whereas in lower level languages you have to declare an object before initializing it. This is the first step in the process of using a class.</p>"
   ]
  },
  {
   "cell_type": "code",
   "execution_count": 1,
   "metadata": {},
   "outputs": [],
   "source": [
    "class Car():\n",
    "    wheels = 4\n",
    "    color = 'blue'"
   ]
  },
  {
   "cell_type": "markdown",
   "metadata": {},
   "source": [
    "## Using a Class (Instantiating)\n",
    "<p>The process of creating a class is called <i>Instantiating</i>. Each time you create a variable of that type of class, it is referred to as an <i>Instance</i> of that class. This is the second step in the process of using a class.</p>"
   ]
  },
  {
   "cell_type": "markdown",
   "metadata": {},
   "source": [
    "##### Creating One Instance"
   ]
  },
  {
   "cell_type": "code",
   "execution_count": 2,
   "metadata": {},
   "outputs": [
    {
     "name": "stdout",
     "output_type": "stream",
     "text": [
      "blue\n"
     ]
    }
   ],
   "source": [
    "ford = Car()\n",
    "print(ford.color)"
   ]
  },
  {
   "cell_type": "markdown",
   "metadata": {},
   "source": [
    "##### Creating Multiple Instances"
   ]
  },
  {
   "cell_type": "code",
   "execution_count": 3,
   "metadata": {},
   "outputs": [
    {
     "name": "stdout",
     "output_type": "stream",
     "text": [
      "<class 'str'>\n"
     ]
    }
   ],
   "source": [
    "audi = Car()\n",
    "honda=Car()\n",
    "\n",
    "print(type(honda.color))"
   ]
  },
  {
   "cell_type": "markdown",
   "metadata": {},
   "source": [
    "##### In-Class Exercise #1 - Create a Class 'Car' and Instantiate three different makes of cars"
   ]
  },
  {
   "cell_type": "code",
   "execution_count": 4,
   "metadata": {},
   "outputs": [
    {
     "name": "stdout",
     "output_type": "stream",
     "text": [
      "Car 1: Nissan 4 doors 4 wheels and blue color\n",
      "Car 2: Ford  4 doors 4 wheels and blue color\n",
      "Car 3: Honda 4 doors 4 wheels and blue color\n"
     ]
    }
   ],
   "source": [
    "class Car():\n",
    "    wheel = 4\n",
    "    color = 'blue'\n",
    "    door = 4\n",
    "    \n",
    "Nissan=Car()\n",
    "Ford=Car()\n",
    "Honda=Car()\n",
    "\n",
    "print(f\"Car 1: Nissan {Nissan.door} doors {Nissan.wheel} wheels and {Nissan.color} color\")\n",
    "print(f\"Car 2: Ford  {Ford.door} doors {Ford.wheel} wheels and {Ford.color} color\")\n",
    "print(f\"Car 3: Honda {Honda.door} doors {Honda.wheel} wheels and {Honda.color} color\")"
   ]
  },
  {
   "cell_type": "markdown",
   "metadata": {},
   "source": [
    "## The \\__init\\__() Method <br>\n",
    "<p>This method is used in almost every created class, and called only once upon the creation of the class instance. This method will initialize all variables needed for the object.</p>"
   ]
  },
  {
   "cell_type": "code",
   "execution_count": 5,
   "metadata": {},
   "outputs": [
    {
     "name": "stdout",
     "output_type": "stream",
     "text": [
      "Car 1: Nissan 4 doors 4 wheels and red color\n",
      "Car 2: Hyundai 4 doors 4 wheels and black color\n",
      "Car 3: Toyota 4 doors 4 wheels and white color\n"
     ]
    }
   ],
   "source": [
    "class Car():\n",
    "    def __init__(self, make, door, wheel, color):\n",
    "        self.make = make\n",
    "        self.door = door\n",
    "        self.wheel = wheel\n",
    "        self.color = color\n",
    "    \n",
    "car1 = Car(\"Nissan\", 4,4,\"red\")\n",
    "car2 = Car(\"Hyundai\", 4,4,\"black\")\n",
    "car3 = Car(\"Toyota\", 4,4,\"white\")\n",
    "\n",
    "print(f\"Car 1: {car1.make} {car1.door} doors {car1.wheel} wheels and {car1.color} color\")\n",
    "print(f\"Car 2: {car2.make} {car2.door} doors {car2.wheel} wheels and {car2.color} color\")\n",
    "print(f\"Car 3: {car3.make} {car3.door} doors {car3.wheel} wheels and {car3.color} color\")"
   ]
  },
  {
   "cell_type": "markdown",
   "metadata": {},
   "source": [
    "##### The 'self' Attribute <br>\n",
    "<p>This attribute is required to keep track of specific instance's attributes. Without the self attribute, the program would not know how to reference or keep track of an instance's attributes.</p>"
   ]
  },
  {
   "cell_type": "code",
   "execution_count": 6,
   "metadata": {},
   "outputs": [
    {
     "name": "stdout",
     "output_type": "stream",
     "text": [
      "Car 1: Nissan 4 doors 4 wheels and red color\n",
      "Car 2: Hyundai 4 doors 4 wheels and black color\n",
      "Car 3: Toyota 4 doors 4 wheels and white color\n"
     ]
    }
   ],
   "source": [
    "# see above\n",
    "class Car():\n",
    "    def __init__(self, make, door, wheel, color):\n",
    "        self.make = make\n",
    "        self.door = door\n",
    "        self.wheel = wheel\n",
    "        self.color = color\n",
    "    \n",
    "car1 = Car(\"Nissan\", 4,4,\"red\")\n",
    "car2 = Car(\"Hyundai\", 4,4,\"black\")\n",
    "car3 = Car(\"Toyota\", 4,4,\"white\")\n",
    "\n",
    "print(f\"Car 1: {car1.make} {car1.door} doors {car1.wheel} wheels and {car1.color} color\")\n",
    "print(f\"Car 2: {car2.make} {car2.door} doors {car2.wheel} wheels and {car2.color} color\")\n",
    "print(f\"Car 3: {car3.make} {car3.door} doors {car3.wheel} wheels and {car3.color} color\")"
   ]
  },
  {
   "cell_type": "markdown",
   "metadata": {},
   "source": [
    "## Class Attributes <br>\n",
    "<p>While variables are inside of a class, they are referred to as attributes and not variables. When someone says 'attribute' you know they're speaking about a class. Attributes can be initialized through the init method, or outside of it.</p>"
   ]
  },
  {
   "cell_type": "markdown",
   "metadata": {},
   "source": [
    "##### Initializing Attributes"
   ]
  },
  {
   "cell_type": "code",
   "execution_count": 7,
   "metadata": {},
   "outputs": [
    {
     "name": "stdout",
     "output_type": "stream",
     "text": [
      "Car 1: Nissan 4 doors 4 wheels and red color\n",
      "Car 2: Hyundai 4 doors 4 wheels and black color\n",
      "Car 3: Toyota 4 doors 4 wheels and white color\n"
     ]
    }
   ],
   "source": [
    "# see above\n",
    "class Car():\n",
    "    def __init__(self, make, door, wheel, color):\n",
    "        self.make = make\n",
    "        self.door = door\n",
    "        self.wheel = wheel\n",
    "        self.color = color\n",
    "    \n",
    "car1 = Car(\"Nissan\", 4,4,\"red\")\n",
    "car2 = Car(\"Hyundai\", 4,4,\"black\")\n",
    "car3 = Car(\"Toyota\", 4,4,\"white\")\n",
    "\n",
    "print(f\"Car 1: {car1.make} {car1.door} doors {car1.wheel} wheels and {car1.color} color\")\n",
    "print(f\"Car 2: {car2.make} {car2.door} doors {car2.wheel} wheels and {car2.color} color\")\n",
    "print(f\"Car 3: {car3.make} {car3.door} doors {car3.wheel} wheels and {car3.color} color\")"
   ]
  },
  {
   "cell_type": "markdown",
   "metadata": {},
   "source": [
    "##### Accessing Class Attributes"
   ]
  },
  {
   "cell_type": "code",
   "execution_count": 8,
   "metadata": {
    "scrolled": true
   },
   "outputs": [
    {
     "data": {
      "text/plain": [
       "'Nissan'"
      ]
     },
     "execution_count": 8,
     "metadata": {},
     "output_type": "execute_result"
    }
   ],
   "source": [
    "# See Above\n",
    "car1.make"
   ]
  },
  {
   "cell_type": "markdown",
   "metadata": {},
   "source": [
    "##### Setting Defaults for Attributes"
   ]
  },
  {
   "cell_type": "code",
   "execution_count": 9,
   "metadata": {},
   "outputs": [
    {
     "name": "stdout",
     "output_type": "stream",
     "text": [
      "blue\n"
     ]
    }
   ],
   "source": [
    "class Car():\n",
    "    def __init__(self, make, door, wheel):\n",
    "        self.make = make\n",
    "        self.door = door\n",
    "        self.wheel = wheel\n",
    "        self.color = 'blue'\n",
    "    \n",
    "car1 = Car(\"Nissan\", 4,4)\n",
    "\n",
    "print(car1.color)"
   ]
  },
  {
   "cell_type": "markdown",
   "metadata": {},
   "source": [
    "##### Changing Class Attributes <br>\n",
    "<p>Keep in mind there are global class attributes and then there are attributes only available to each class instance which won't effect other classes.</p>"
   ]
  },
  {
   "cell_type": "code",
   "execution_count": 10,
   "metadata": {},
   "outputs": [
    {
     "name": "stdout",
     "output_type": "stream",
     "text": [
      "red\n"
     ]
    }
   ],
   "source": [
    "jeep=Car(\"Jeep\", 4,4)\n",
    "jeep.color=\"red\"\n",
    "print(jeep.color)"
   ]
  },
  {
   "cell_type": "markdown",
   "metadata": {},
   "source": [
    "##### In-Class Exercise #2 - Add a doors and seats attribute to your 'Car' class then print out two different instances with different doors and seats"
   ]
  },
  {
   "cell_type": "code",
   "execution_count": 11,
   "metadata": {},
   "outputs": [
    {
     "name": "stdout",
     "output_type": "stream",
     "text": [
      "Car 1: Nissan 2 doors 4 seats and red color\n",
      "Car 2: Hyundai 4 doors 4 seats and black color\n",
      "Car 3: Toyota 2 doors 2 seats and white color\n"
     ]
    }
   ],
   "source": [
    "class Car():\n",
    "    def __init__(self, make, door, seat, color):\n",
    "        self.make = make\n",
    "        self.door = door\n",
    "        self.seat = seat\n",
    "        self.color = color\n",
    "    \n",
    "car1 = Car(\"Nissan\", 2,4,\"red\")\n",
    "car2 = Car(\"Hyundai\", 4,4,\"black\")\n",
    "car3 = Car(\"Toyota\", 2,2,\"white\")\n",
    "\n",
    "print(f\"Car 1: {car1.make} {car1.door} doors {car1.seat} seats and {car1.color} color\")\n",
    "print(f\"Car 2: {car2.make} {car2.door} doors {car2.seat} seats and {car2.color} color\")\n",
    "print(f\"Car 3: {car3.make} {car3.door} doors {car3.seat} seats and {car3.color} color\")"
   ]
  },
  {
   "cell_type": "markdown",
   "metadata": {},
   "source": [
    "## Class Methods <br>\n",
    "<p>While inside of a class, functions are referred to as 'methods'. If you hear someone mention methods, they're speaking about classes. Methods are essentially functions, but only callable on the instances of a class.</p>"
   ]
  },
  {
   "cell_type": "markdown",
   "metadata": {},
   "source": [
    "##### Creating"
   ]
  },
  {
   "cell_type": "code",
   "execution_count": 12,
   "metadata": {},
   "outputs": [],
   "source": [
    "class Bag():\n",
    "    def __init__(self,handles,capacity,items):\n",
    "        self.handles=handles\n",
    "        self.capacity=capacity\n",
    "        self.items=items  \n",
    "    def showBag(self):\n",
    "        print(\"You have items in your bag!\")\n",
    "        for item in self.items:\n",
    "            print(item)\n",
    "    def showCap(self):\n",
    "        print(f'Your capacity vis: {self.capacity}')\n",
    "    def addtoBag(self):\n",
    "        products=input(\"What do you wanna add? \")\n",
    "        self.items.append(products)\n",
    "    def changeCap(self,capacity):\n",
    "        self.capacity=capacity\n",
    "    def increaseCap(self,changed_capacity=10):\n",
    "        if self.capacity==isinstance(self.capacity,str):\n",
    "            print(\"we cant add that here\")\n",
    "        else:\n",
    "            self.capacity+=changed_capacity\n",
    "            \n",
    "            \n",
    "            \n",
    "        "
   ]
  },
  {
   "cell_type": "markdown",
   "metadata": {},
   "source": [
    "##### Calling"
   ]
  },
  {
   "cell_type": "code",
   "execution_count": 13,
   "metadata": {},
   "outputs": [
    {
     "name": "stdout",
     "output_type": "stream",
     "text": [
      "do you wanna add/show/quit? add\n",
      "What do you wanna add? Rice\n",
      "do you wanna add/show/quit? add\n",
      "What do you wanna add? Wheat\n",
      "do you wanna add/show/quit? add\n",
      "What do you wanna add? Banana\n",
      "do you wanna add/show/quit? show\n",
      "You have items in your bag!\n",
      "Rice\n",
      "Wheat\n",
      "Banana\n",
      "do you wanna add/show/quit? quit\n",
      "You have items in your bag!\n",
      "Rice\n",
      "Wheat\n",
      "Banana\n",
      "Thanks for shopping\n"
     ]
    }
   ],
   "source": [
    "# See Above\n",
    "\n",
    "wholefood = Bag(2, 10, [])\n",
    "\n",
    "def run():\n",
    "    while True:\n",
    "        response = input(\"do you wanna add/show/quit? \")\n",
    "        if response.lower() == 'quit':\n",
    "            wholefood.showBag()\n",
    "            print(\"Thanks for shopping\")\n",
    "            break\n",
    "        elif response.lower() == \"add\":\n",
    "            wholefood.addtoBag()\n",
    "        elif response.lower() == \"show\":\n",
    "            wholefood.showBag()\n",
    "        else:\n",
    "            print(\"Try other command\")\n",
    "\n",
    "run()"
   ]
  },
  {
   "cell_type": "markdown",
   "metadata": {},
   "source": [
    "##### Modifying an Attribute's Value Through a Method"
   ]
  },
  {
   "cell_type": "code",
   "execution_count": 14,
   "metadata": {},
   "outputs": [
    {
     "name": "stdout",
     "output_type": "stream",
     "text": [
      "Your capacity vis: 10\n",
      "Capacity AFTER the change... \n",
      "Your capacity vis: 40\n"
     ]
    }
   ],
   "source": [
    "wholefood.showCap()\n",
    "print(\"Capacity AFTER the change... \")\n",
    "wholefood.changeCap(40)\n",
    "wholefood.showCap()"
   ]
  },
  {
   "cell_type": "markdown",
   "metadata": {},
   "source": [
    "##### Incrementing an Attribute's Value Through a Method"
   ]
  },
  {
   "cell_type": "code",
   "execution_count": 15,
   "metadata": {},
   "outputs": [
    {
     "name": "stdout",
     "output_type": "stream",
     "text": [
      "Your capacity vis: 40\n",
      "Capacity AFTER the increase... \n",
      "Your capacity vis: 50\n"
     ]
    }
   ],
   "source": [
    "wholefood.showCap()\n",
    "print(\"Capacity AFTER the increase... \")\n",
    "wholefood.increaseCap()\n",
    "wholefood.showCap()"
   ]
  },
  {
   "cell_type": "markdown",
   "metadata": {},
   "source": [
    "##### In-Class Exercise #3 - Add a method that takes in three parameters of year, doors and seats and prints out a formatted print statement with make, model, year, seats, and doors"
   ]
  },
  {
   "cell_type": "code",
   "execution_count": 16,
   "metadata": {},
   "outputs": [
    {
     "name": "stdout",
     "output_type": "stream",
     "text": [
      "This car is from 2019 and is a Nissan Sunny and has 4 doors and 5 seats\n",
      "This car is from 2022 and is a Hyundai Creta and has 4 doors and 5 seats\n",
      "This car is from 2014 and is a Toyota Camry and has 4 doors and 5 seats\n"
     ]
    }
   ],
   "source": [
    "# Create class with 2 paramters inside of the __init__ which are make and model\n",
    "\n",
    "# Inside of the Car class create a method that has 4 parameter in total (self,year,door,seats)\n",
    "\n",
    "# Output: This car is from 2019 and is a Ford Expolorer and has 4 doors and 5 seats\n",
    "\n",
    "# see above\n",
    "class Car():\n",
    "    def __init__(self, make, model):\n",
    "        self.make = make\n",
    "        self.model = model\n",
    "        \n",
    "    def spec(self, year, doors, seats):\n",
    "        return f\"This car is from {year} and is a {self.make} {self.model} and has {doors} doors and {seats} seats\"\n",
    "\n",
    "    \n",
    "car1 = Car(\"Nissan\",\"Sunny\")\n",
    "car2 = Car(\"Hyundai\",\"Creta\")\n",
    "car3 = Car(\"Toyota\",\"Camry\")\n",
    "\n",
    "print(car1.spec(2019, 4, 5))\n",
    "print(car2.spec(2022, 4, 5))\n",
    "print(car3.spec(2014, 4, 5))"
   ]
  },
  {
   "cell_type": "markdown",
   "metadata": {},
   "source": [
    "## Inheritance <br>\n",
    "<p>You can create a child-parent relationship between two classes by using inheritance. What this allows you to do is have overriding methods, but also inherit traits from the parent class. Think of it as an actual parent and child, the child will inherit the parent's genes, as will the classes in OOP</p>"
   ]
  },
  {
   "cell_type": "markdown",
   "metadata": {},
   "source": [
    "##### Syntax for Inheriting from a Parent Class"
   ]
  },
  {
   "cell_type": "code",
   "execution_count": null,
   "metadata": {},
   "outputs": [],
   "source": []
  },
  {
   "cell_type": "markdown",
   "metadata": {},
   "source": [
    "##### The \\__init\\__() Method for a Child Class - super()"
   ]
  },
  {
   "cell_type": "code",
   "execution_count": 17,
   "metadata": {
    "scrolled": false
   },
   "outputs": [
    {
     "name": "stdout",
     "output_type": "stream",
     "text": [
      "Bark\n",
      "Make some generic sound\n",
      "None\n",
      "9.8\n",
      "15\n",
      "The Dog has 15 mph in speed and 9.8\n",
      "None\n"
     ]
    }
   ],
   "source": [
    "class Animal():\n",
    "    acceleration = 9.8\n",
    "    \n",
    "    def __init__(self, name, species, legs=4):\n",
    "        self.name = name\n",
    "        self.species = species\n",
    "        self.legs = legs\n",
    "    \n",
    "    def makeSound(self):\n",
    "        print('Make some generic sound')\n",
    "\n",
    "class Dog(Animal):\n",
    "    speed = 15\n",
    "    \n",
    "    def printInfo(self):\n",
    "        print(f\"The Dog has {self.speed} mph in speed and {self.acceleration}\")\n",
    "        \n",
    "class Mutt(Dog):\n",
    "    color = \"tan\"\n",
    "    \n",
    "    def __init__(self, name, species, eye, legs=4):\n",
    "        Dog.__init__(self, name, species, legs)\n",
    "        self.eye = eye\n",
    "        \n",
    "    def makeSound(self):\n",
    "        noise = 'Bark'\n",
    "        return noise\n",
    "\n",
    "lassie = Dog('Lassie', 'Dog')\n",
    "basic_animal = Animal('Generic Animal name', 'Generic animal species')\n",
    "buster = Mutt('Buster', 'Mut', 'Brown')\n",
    "\n",
    "print(buster.makeSound())\n",
    "print(lassie.makeSound())\n",
    "print(lassie.acceleration)\n",
    "print(buster.speed)\n",
    "print(buster.printInfo())"
   ]
  },
  {
   "cell_type": "markdown",
   "metadata": {},
   "source": [
    "##### Defining Attributes and Methods for the Child Class"
   ]
  },
  {
   "cell_type": "code",
   "execution_count": 18,
   "metadata": {},
   "outputs": [
    {
     "name": "stdout",
     "output_type": "stream",
     "text": [
      "Bark\n",
      "Make some generic sound\n",
      "None\n",
      "9.8\n",
      "15\n",
      "The Dog has 15 mph in speed and 9.8\n",
      "None\n"
     ]
    }
   ],
   "source": [
    "# See \n",
    "class Puppy(Dog):\n",
    "    color='black and brown'\n",
    "    \n",
    "    def __init__(self, name, species, eye, legs=4):\n",
    "            super().__init__(name, species, legs)\n",
    "            self.eye=eye\n",
    "            \n",
    "    def makeSound():\n",
    "        noise = 'Bark'\n",
    "        return noise   \n",
    "\n",
    "lassie = Dog('Lassie', 'Dog')\n",
    "basic_animal = Animal('Generic Animal name', 'Generic animal species')\n",
    "buster = Mutt('Buster', 'Mut', 'Brown')\n",
    "\n",
    "print(buster.makeSound())\n",
    "print(lassie.makeSound())\n",
    "print(lassie.acceleration)\n",
    "print(buster.speed)\n",
    "print(buster.printInfo())"
   ]
  },
  {
   "cell_type": "markdown",
   "metadata": {},
   "source": [
    "##### Method Overriding"
   ]
  },
  {
   "cell_type": "code",
   "execution_count": 19,
   "metadata": {},
   "outputs": [],
   "source": [
    "# See Above"
   ]
  },
  {
   "cell_type": "markdown",
   "metadata": {},
   "source": [
    "## Classes as Attributes <br>\n",
    "<p>Classes can also be used as attributes within another class. This is useful in situations where you need to keep variables locally stored, instead of globally stored.</p>"
   ]
  },
  {
   "cell_type": "code",
   "execution_count": 20,
   "metadata": {},
   "outputs": [
    {
     "name": "stdout",
     "output_type": "stream",
     "text": [
      "20\n"
     ]
    },
    {
     "data": {
      "text/plain": [
       "'2019 Tesla Model X 20 '"
      ]
     },
     "execution_count": 20,
     "metadata": {},
     "output_type": "execute_result"
    }
   ],
   "source": [
    "class Battery():\n",
    "    volts=7.8\n",
    "    \n",
    "    def __init__(self,cells):\n",
    "        self.cells=cells\n",
    "class Car():\n",
    "    def __init__(self,year,make,model,battery):\n",
    "        self.year=year\n",
    "        self.make=make\n",
    "        self.model=model\n",
    "        self.battery=battery\n",
    "    def printInfo(self):\n",
    "        return f'{self.year} {self.make} {self.model} {self.battery.cells} '\n",
    "\n",
    "my_battery=Battery(20)\n",
    "\n",
    "tesla=Car(2019,'Tesla','Model X',my_battery)\n",
    "\n",
    "print(tesla.battery.cells)\n",
    "tesla.printInfo()"
   ]
  },
  {
   "cell_type": "markdown",
   "metadata": {},
   "source": [
    "# Exercises"
   ]
  },
  {
   "cell_type": "markdown",
   "metadata": {},
   "source": [
    "### Exercise 1 - Turn the shopping cart program from yesterday into an object-oriented program\n",
    "\n",
    "The comments in the cell below are there as a guide for thinking about the problem. However, if you feel a different way is best for you and your own thought process, please do what feels best for you by all means."
   ]
  },
  {
   "cell_type": "code",
   "execution_count": 21,
   "metadata": {},
   "outputs": [
    {
     "name": "stdout",
     "output_type": "stream",
     "text": [
      "Do you want to add/remove/show/quit? add\n",
      "Enter item to add: banana\n",
      "Do you want to add/remove/show/quit? add\n",
      "Enter item to add: apple\n",
      "Do you want to add/remove/show/quit? pear\n",
      "Invalid command. Try again.\n",
      "Do you want to add/remove/show/quit? add\n",
      "Enter item to add: pear\n",
      "Do you want to add/remove/show/quit? show\n",
      "Items in your cart:\n",
      "banana\n",
      "apple\n",
      "pear\n",
      "Do you want to add/remove/show/quit? remove\n",
      "Enter item to remove: apple\n",
      "Do you want to add/remove/show/quit? show\n",
      "Items in your cart:\n",
      "banana\n",
      "pear\n",
      "Do you want to add/remove/show/quit? quit\n",
      "Items in your cart:\n",
      "banana\n",
      "pear\n",
      "Thanks for shopping!\n"
     ]
    }
   ],
   "source": [
    "# Create a class called cart that retains items and has methods to add, remove, and shoW\n",
    "\n",
    "class Cart():\n",
    "    def __init__(self):\n",
    "        self.items = []\n",
    "        \n",
    "    def add_item(self, item):\n",
    "        self.items.append(item)\n",
    "        \n",
    "    def remove_item(self, item):\n",
    "        if item in self.items:\n",
    "            self.items.remove(item)\n",
    "        else:\n",
    "            print(f\"{item} not found in the cart.\")\n",
    "            \n",
    "    def show_cart(self):\n",
    "        if not self.items:\n",
    "            print(\"Your cart is empty.\")\n",
    "        else:\n",
    "            print(\"Items in your cart:\")\n",
    "            for item in self.items:\n",
    "                print(item)\n",
    "\n",
    "my_cart = Cart()\n",
    "\n",
    "def run():\n",
    "    while True:\n",
    "        response = input(\"Do you want to add/remove/show/quit? \")\n",
    "        if response.lower() == 'quit':\n",
    "            my_cart.show_cart()\n",
    "            print(\"Thanks for shopping!\")\n",
    "            break\n",
    "        elif response.lower() == \"add\":\n",
    "            item = input(\"Enter item to add: \")\n",
    "            my_cart.add_item(item)\n",
    "        elif response.lower() == \"remove\":\n",
    "            item = input(\"Enter item to remove: \")\n",
    "            my_cart.remove_item(item)\n",
    "        elif response.lower() == \"show\":\n",
    "            my_cart.show_cart()\n",
    "        else:\n",
    "            print(\"Invalid command. Try again.\")\n",
    "\n",
    "run()\n"
   ]
  },
  {
   "cell_type": "markdown",
   "metadata": {},
   "source": [
    "### Exercise 2 - Write a Python class which has two methods get_String and print_String. get_String accept a string from the user and print_String print the string in upper case"
   ]
  },
  {
   "cell_type": "code",
   "execution_count": 23,
   "metadata": {},
   "outputs": [
    {
     "name": "stdout",
     "output_type": "stream",
     "text": [
      "Enter a string: Kavya\n",
      "KAVYA\n"
     ]
    }
   ],
   "source": [
    "class Stringit():\n",
    "    def __init__(self):\n",
    "        self.string=\"\"\n",
    "        \n",
    "    def get_String(self):\n",
    "        self.string = input(\"Enter a string: \")\n",
    "\n",
    "    def print_String(self):\n",
    "        print(self.string.upper())\n",
    "\n",
    "string_manipulator = Stringit()\n",
    "string_manipulator.get_String()\n",
    "string_manipulator.print_String()"
   ]
  },
  {
   "cell_type": "code",
   "execution_count": null,
   "metadata": {},
   "outputs": [],
   "source": []
  },
  {
   "cell_type": "code",
   "execution_count": null,
   "metadata": {},
   "outputs": [],
   "source": []
  }
 ],
 "metadata": {
  "kernelspec": {
   "display_name": "Python 3 (ipykernel)",
   "language": "python",
   "name": "python3"
  },
  "language_info": {
   "codemirror_mode": {
    "name": "ipython",
    "version": 3
   },
   "file_extension": ".py",
   "mimetype": "text/x-python",
   "name": "python",
   "nbconvert_exporter": "python",
   "pygments_lexer": "ipython3",
   "version": "3.11.4"
  }
 },
 "nbformat": 4,
 "nbformat_minor": 2
}
